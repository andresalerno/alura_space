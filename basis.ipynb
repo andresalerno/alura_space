{
 "cells": [
  {
   "attachments": {},
   "cell_type": "markdown",
   "metadata": {},
   "source": [
    "#### Passos iniciais para o Django\n",
    "\n",
    "1) Criar uma venv\n",
    "2) instalar o django\n",
    "3) pip freeze\n",
    "4) django-admin help\n",
    "5) django-admin startproject setup .\n",
    "6) python manage.py runserver\n",
    "7) alteração do idioma e time zone\n",
    "8) criar o arquivo .env com a SECRET_KEY"
   ]
  },
  {
   "attachments": {},
   "cell_type": "markdown",
   "metadata": {},
   "source": []
  }
 ],
 "metadata": {
  "kernelspec": {
   "display_name": ".venv",
   "language": "python",
   "name": "python3"
  },
  "language_info": {
   "name": "python",
   "version": "3.11.3"
  },
  "orig_nbformat": 4
 },
 "nbformat": 4,
 "nbformat_minor": 2
}
